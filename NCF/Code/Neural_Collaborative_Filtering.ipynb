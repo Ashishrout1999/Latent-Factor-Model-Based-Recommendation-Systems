{
 "cells": [
  {
   "cell_type": "code",
   "execution_count": null,
   "metadata": {
    "executionInfo": {
     "elapsed": 8,
     "status": "ok",
     "timestamp": 1637837994611,
     "user": {
      "displayName": "ASHISH ROUT",
      "photoUrl": "https://lh3.googleusercontent.com/a/default-user=s64",
      "userId": "10779218940310329058"
     },
     "user_tz": -330
    },
    "id": "WP7nOHPPPQjk"
   },
   "outputs": [],
   "source": [
    "import numpy as np\n",
    "import pandas as pd\n",
    "import matplotlib.pyplot as plt\n",
    "import collections\n",
    "import time"
   ]
  },
  {
   "cell_type": "code",
   "execution_count": null,
   "metadata": {},
   "outputs": [],
   "source": [
    "import os\n",
    "\n",
    "if not os.path.exists('../Results'):\n",
    "    os.makedirs('../Results/Figure')"
   ]
  },
  {
   "cell_type": "code",
   "execution_count": null,
   "metadata": {
    "executionInfo": {
     "elapsed": 1129,
     "status": "ok",
     "timestamp": 1637838012860,
     "user": {
      "displayName": "ASHISH ROUT",
      "photoUrl": "https://lh3.googleusercontent.com/a/default-user=s64",
      "userId": "10779218940310329058"
     },
     "user_tz": -330
    },
    "id": "SXYS3OaOPey8"
   },
   "outputs": [],
   "source": [
    "data = pd.read_csv('../Data/u.data', delimiter = '\\t', names = ['User', 'Item', 'Rating', 'Time'])"
   ]
  },
  {
   "cell_type": "code",
   "execution_count": null,
   "metadata": {
    "executionInfo": {
     "elapsed": 343,
     "status": "ok",
     "timestamp": 1637838014755,
     "user": {
      "displayName": "ASHISH ROUT",
      "photoUrl": "https://lh3.googleusercontent.com/a/default-user=s64",
      "userId": "10779218940310329058"
     },
     "user_tz": -330
    },
    "id": "M2c_oAxHPgBo"
   },
   "outputs": [],
   "source": [
    "num_users = len(pd.unique(data['User']))\n",
    "num_items = len(pd.unique(data['Item']))"
   ]
  },
  {
   "cell_type": "code",
   "execution_count": null,
   "metadata": {
    "executionInfo": {
     "elapsed": 568,
     "status": "ok",
     "timestamp": 1637838017106,
     "user": {
      "displayName": "ASHISH ROUT",
      "photoUrl": "https://lh3.googleusercontent.com/a/default-user=s64",
      "userId": "10779218940310329058"
     },
     "user_tz": -330
    },
    "id": "N5nVk2qBPjq8"
   },
   "outputs": [],
   "source": [
    "train_data = pd.read_csv('../Data_Split/train.csv').to_numpy()[:, 1 :]\n",
    "val_data = pd.read_csv('../Data_Split/val.csv').to_numpy()[:, 1 :]\n",
    "test_data = pd.read_csv('../Data_Split/test.csv').to_numpy()[:, 1:]"
   ]
  },
  {
   "cell_type": "code",
   "execution_count": null,
   "metadata": {
    "executionInfo": {
     "elapsed": 7,
     "status": "ok",
     "timestamp": 1637838019875,
     "user": {
      "displayName": "ASHISH ROUT",
      "photoUrl": "https://lh3.googleusercontent.com/a/default-user=s64",
      "userId": "10779218940310329058"
     },
     "user_tz": -330
    },
    "id": "uEFNa_fOJ72N"
   },
   "outputs": [],
   "source": [
    "train_mean_rating = np.mean(train_data[:, 2])"
   ]
  },
  {
   "cell_type": "code",
   "execution_count": null,
   "metadata": {
    "executionInfo": {
     "elapsed": 8,
     "status": "ok",
     "timestamp": 1637838021313,
     "user": {
      "displayName": "ASHISH ROUT",
      "photoUrl": "https://lh3.googleusercontent.com/a/default-user=s64",
      "userId": "10779218940310329058"
     },
     "user_tz": -330
    },
    "id": "AFB7PSZVvs5O"
   },
   "outputs": [],
   "source": [
    "def rmse(y_true, y_pred):\n",
    "    return np.sqrt(np.mean(np.square(y_true - y_pred)))"
   ]
  },
  {
   "cell_type": "code",
   "execution_count": null,
   "metadata": {
    "executionInfo": {
     "elapsed": 2777,
     "status": "ok",
     "timestamp": 1637838025742,
     "user": {
      "displayName": "ASHISH ROUT",
      "photoUrl": "https://lh3.googleusercontent.com/a/default-user=s64",
      "userId": "10779218940310329058"
     },
     "user_tz": -330
    },
    "id": "uiSmAl7sPthX"
   },
   "outputs": [],
   "source": [
    "import tensorflow as tf\n",
    "import keras\n",
    "from keras.layers import Input, Embedding, Dense, Flatten, Dropout, BatchNormalization, Concatenate, Multiply"
   ]
  },
  {
   "cell_type": "code",
   "execution_count": null,
   "metadata": {},
   "outputs": [],
   "source": [
    "keras.__version__"
   ]
  },
  {
   "cell_type": "code",
   "execution_count": null,
   "metadata": {
    "executionInfo": {
     "elapsed": 406,
     "status": "ok",
     "timestamp": 1637841774125,
     "user": {
      "displayName": "ASHISH ROUT",
      "photoUrl": "https://lh3.googleusercontent.com/a/default-user=s64",
      "userId": "10779218940310329058"
     },
     "user_tz": -330
    },
    "id": "cTWfm40PQ8wY"
   },
   "outputs": [],
   "source": [
    "# Dimension of latent factor embedding for MLP and Matrix Factorization operations\n",
    "\n",
    "\n",
    "num_user_mlp = 10\n",
    "num_item_mlp = 10\n",
    "num_mf = 30\n",
    "learning_rate_list = [1e-3, 1e-2]"
   ]
  },
  {
   "cell_type": "code",
   "execution_count": null,
   "metadata": {
    "colab": {
     "base_uri": "https://localhost:8080/",
     "height": 53
    },
    "executionInfo": {
     "elapsed": 57,
     "status": "ok",
     "timestamp": 1637841776032,
     "user": {
      "displayName": "ASHISH ROUT",
      "photoUrl": "https://lh3.googleusercontent.com/a/default-user=s64",
      "userId": "10779218940310329058"
     },
     "user_tz": -330
    },
    "id": "x2_rZOz6wRb7",
    "outputId": "e528cdf9-bef6-488b-8cd6-1281a6d5b617"
   },
   "outputs": [],
   "source": [
    "# Hyperparameters to tune\n",
    "\n",
    "early_stop_iters = 30\n",
    "num_epochs = 100\n",
    "\n",
    "dropout_list = [0.05, 0.2, 0.4]\n",
    "batch_size_list = [1024, 128, 256, 512]\n",
    "l2_reg_kernel_list = [0.005, 0.02, 0.1]\n",
    "bn_list = [True, False]"
   ]
  },
  {
   "cell_type": "code",
   "execution_count": null,
   "metadata": {
    "id": "ZrMjMSCkR_0f"
   },
   "outputs": [],
   "source": [
    "user_mlp_dim_list = []\n",
    "item_mlp_dim_list = []\n",
    "mf_dim_list = []\n",
    "early_stop_list = []\n",
    "max_epochs_list = []\n",
    "\n",
    "dropout_params = []\n",
    "batch_size_params = []\n",
    "lr_params = []\n",
    "l2_reg_params = []\n",
    "bn_params = []\n",
    "rmse_train_list = []\n",
    "rmse_val_list = []\n",
    "rmse_test_list = []\n",
    "\n",
    "iteration = 1\n",
    "\n",
    "for learning_rate in learning_rate_list:\n",
    "    for dropout_rate in dropout_list:\n",
    "        for l2_reg_kernel in l2_reg_kernel_list:\n",
    "            for batch_size in batch_size_list:\n",
    "                for bn in bn_list:\n",
    "\n",
    "                    user_input = Input(shape = (1, ), name = 'User_Input')\n",
    "                    user_MF_vec = Flatten(name = 'Flatten-1')(Embedding(input_dim = num_users + 1, output_dim = num_mf, embeddings_regularizer = tf.keras.regularizers.l2(l2_reg_kernel), name = 'User_MF_Latent_Factor')(user_input))\n",
    "                    user_MLP_vec = Flatten(name = 'Flatten-2')(Embedding(input_dim = num_users + 1, output_dim = num_user_mlp, embeddings_regularizer = tf.keras.regularizers.l2(l2_reg_kernel), name = 'User_MLP_Latent_Factor')(user_input))\n",
    "\n",
    "\n",
    "                    item_input = Input(shape = (1, ), name = 'Item_Input')\n",
    "                    item_MF_vec = Flatten(name = 'Flatten-3')(Embedding(input_dim = num_items + 1, output_dim = num_mf, embeddings_regularizer = tf.keras.regularizers.l2(l2_reg_kernel), name = 'Item_MF_Latent_Factor')(item_input))\n",
    "                    item_MLP_vec = Flatten(name = 'Flatten-4')(Embedding(input_dim = num_items + 1, output_dim = num_item_mlp, embeddings_regularizer = tf.keras.regularizers.l2(l2_reg_kernel), name = 'Item_MLP_Latent_Factor')(item_input))\n",
    "\n",
    "\n",
    "                    MF_embedding = Multiply(name = 'Multiply')([user_MF_vec, item_MF_vec])\n",
    "\n",
    "                    MLP_embedding = Concatenate(name = 'Concat-1')([user_MLP_vec, item_MLP_vec])\n",
    "                    MLP_embedding = Dropout(rate = dropout_rate, name = 'Dropout-1')(MLP_embedding)\n",
    "                    MLP_embedding = Dense(units = 200, activation = 'relu', kernel_regularizer = tf.keras.regularizers.l2(l2_reg_kernel), name = 'Dense-1')(MLP_embedding)\n",
    "                    if (bn == True):\n",
    "                        MLP_embedding = BatchNormalization(name = 'Batch_Normalization-1')(MLP_embedding)\n",
    "                    MLP_embedding = Dropout(rate = dropout_rate, name = 'Dropout-2')(MLP_embedding)\n",
    "                    MLP_embedding = Dense(units = 100, activation = 'relu',kernel_regularizer = tf.keras.regularizers.l2(l2_reg_kernel), name = 'Dense-2')(MLP_embedding)\n",
    "                    if (bn == True):\n",
    "                        MLP_embedding = BatchNormalization(name = 'Batch_Normalization-2')(MLP_embedding)\n",
    "                    #MLP_embedding = Dropout(rate = dropout_rate, name = 'Dropout-3')(MLP_embedding)\n",
    "                    #MLP_embedding = Dense(units = 50, activation = 'relu',kernel_regularizer = tf.keras.regularizers.l2(l2_reg_kernel), name = 'Dense-3')(MLP_embedding)\n",
    "                    #MLP_embedding = BatchNormalization(name = 'Batch_Normalization-3')(MLP_embedding)\n",
    "                    #MLP_embedding = Dropout(rate = dropout_rate, name = 'Dropout-4')(MLP_embedding)\n",
    "\n",
    "                    MLP_embedding = Dense(units = 20, activation = 'relu',kernel_regularizer = tf.keras.regularizers.l2(l2_reg_kernel), name = 'Dense-4')(MLP_embedding)\n",
    "\n",
    "                    MLP_MF_embedding = Concatenate(name = 'Concat-2')([MF_embedding, MLP_embedding])\n",
    "                    #MLP_MF_embedding = Dense(units = 200, activation = 'relu',kernel_regularizer = tf.keras.regularizers.l2(l2_reg_kernel), name = 'Dense-7')(MLP_MF_embedding)\n",
    "                    #MLP_MF_embedding = BatchNormalization(name = 'Batch_Normalization-4')(MLP_MF_embedding)\n",
    "                    #MLP_MF_embedding = Dropout(rate = dropout_rate, name = 'Dropout-5')(MLP_MF_embedding)\n",
    "                    #MLP_MF_embedding = Dense(units = 64, activation = 'relu',kernel_regularizer = tf.keras.regularizers.l2(l2_reg_kernel), name = 'Dense-8')(MLP_MF_embedding)\n",
    "                    #MLP_MF_embedding = BatchNormalization(name = 'Batch_Normalization-5')(MLP_MF_embedding)\n",
    "                    #MLP_MF_embedding = Dropout(rate = dropout_rate, name = 'Dropout-6')(MLP_MF_embedding)\n",
    "                    #MLP_MF_embedding = Dense(units = 32, activation = 'relu',kernel_regularizer = tf.keras.regularizers.l2(l2_reg_kernel), name = 'Dense-9')(MLP_MF_embedding)\n",
    "                    #MLP_MF_embedding = BatchNormalization(name = 'Batch_Normalization-6')(MLP_MF_embedding)\n",
    "                    #MLP_MF_embedding = Dropout(rate = dropout_rate, name = 'Dropout-7')(MLP_MF_embedding)\n",
    "                    #MLP_MF_embedding = Dense(units = 16, activation = 'relu',kernel_regularizer = tf.keras.regularizers.l2(l2_reg_kernel), name = 'Dense-5')(MLP_MF_embedding)\n",
    "                    #MLP_MF_embedding = BatchNormalization(name = 'Batch_Normalization-7')(MLP_MF_embedding)\n",
    "                    #MLP_MF_embedding = Dropout(rate = dropout_rate, name = 'Dropout-8')(MLP_MF_embedding)\n",
    "                    MLP_MF_embedding = Dense(units = 8, activation = 'relu',kernel_regularizer = tf.keras.regularizers.l2(l2_reg_kernel), name = 'Dense-6')(MLP_MF_embedding)\n",
    "                    #MLP_MF_embedding = Dense(units = 3, activation = 'relu',kernel_regularizer = tf.keras.regularizers.l2(l2_reg_kernel), name = 'Dense-10')(MLP_MF_embedding)\n",
    "\n",
    "                    results = Dense(units = 1, activation = 'linear', name = 'Prediction')(MLP_MF_embedding) \n",
    "\n",
    "\n",
    "                    model = keras.Model(inputs = [user_input, item_input], outputs = results)\n",
    "                    model.compile(optimizer = tf.keras.optimizers.Adam(learning_rate = learning_rate), loss = 'mse', metrics = [keras.metrics.RootMeanSquaredError()])\n",
    "\n",
    "                    callback = keras.callbacks.EarlyStopping(monitor = 'val_loss', patience = early_stop_iters, restore_best_weights = True)\n",
    "                    history = model.fit(x = [train_data[:, 0], train_data[:, 1]], y = train_data[:, 2], batch_size = batch_size, epochs = num_epochs, \n",
    "                                        validation_data = ([val_data[:, 0], val_data[:, 1]], val_data[:, 2]), callbacks = [callback],\n",
    "                                        verbose = 2)\n",
    "\n",
    "\n",
    "                    test_pred = np.ravel(model.predict([test_data[:, 0], test_data[:, 1]]))\n",
    "                    rmse_test = rmse(test_data[:, 2], test_pred)\n",
    "\n",
    "                    if (len(history.history['loss']) == num_epochs):\n",
    "                        rmse_train = history.history['root_mean_squared_error'][-1]\n",
    "                        rmse_val = history.history['val_root_mean_squared_error'][-1]\n",
    "\n",
    "                    else:\n",
    "                        rmse_train = history.history['root_mean_squared_error'][-early_stop_iters - 1]\n",
    "                        rmse_val = history.history['val_root_mean_squared_error'][-early_stop_iters - 1]\n",
    "\n",
    "\n",
    "                    user_mlp_dim_list.append(num_user_mlp)\n",
    "                    item_mlp_dim_list.append(num_item_mlp)\n",
    "                    mf_dim_list.append(num_mf)\n",
    "                    early_stop_list.append(early_stop_iters)\n",
    "                    max_epochs_list.append(num_epochs)\n",
    "\n",
    "                    dropout_params.append(dropout_rate)\n",
    "                    batch_size_params.append(batch_size)\n",
    "                    lr_params.append(learning_rate)\n",
    "                    l2_reg_params.append(l2_reg_kernel)\n",
    "                    bn_params.append(bn)\n",
    "                    rmse_train_list.append(rmse_train)\n",
    "                    rmse_val_list.append(rmse_val)\n",
    "                    rmse_test_list.append(rmse_test)\n",
    "\n",
    "                    print('Iteration {} is complete'.format(iteration))\n",
    "                    iteration += 1\n",
    "\n",
    "                    plt.figure()\n",
    "                    plt.plot(history.history['root_mean_squared_error'], c = 'red', label = 'Training Error')\n",
    "                    plt.plot(history.history['val_root_mean_squared_error'], c = 'blue', label = 'Validation Error')\n",
    "                    plt.legend()\n",
    "                    plt.xlabel('Epochs')\n",
    "                    plt.ylabel('Root Mean Squared Error')\n",
    "                    plt.title('RMSE vs Epochs During Training and Validation')\n",
    "                    plt.savefig('../Results/Figure/umlp{}_imlp{}_mf{}_epochs{}_drop{}_batch{}_lr{}_l2{}_bn{}.png'.format(num_user_mlp, num_item_mlp, num_mf, num_epochs, dropout_rate, batch_size, learning_rate, l2_reg_kernel, bn))\n",
    "\n"
   ]
  },
  {
   "cell_type": "code",
   "execution_count": null,
   "metadata": {
    "executionInfo": {
     "elapsed": 451,
     "status": "ok",
     "timestamp": 1637841823610,
     "user": {
      "displayName": "ASHISH ROUT",
      "photoUrl": "https://lh3.googleusercontent.com/a/default-user=s64",
      "userId": "10779218940310329058"
     },
     "user_tz": -330
    },
    "id": "WSx53XXj0x1_"
   },
   "outputs": [],
   "source": [
    "results_df = pd.DataFrame()\n",
    "results_df['User_MLP_Latent_Factor'] = user_mlp_dim_list\n",
    "results_df['Item_MLP_Latent_Factor'] = item_mlp_dim_list\n",
    "results_df['MF_Latent_Factor'] = mf_dim_list\n",
    "results_df['Early_Stop_Iters'] = early_stop_list\n",
    "results_df['Max_Epochs'] = max_epochs_list\n",
    "results_df['Dropout_Rate'] = dropout_params\n",
    "results_df['Batch_Size'] = batch_size_params\n",
    "results_df['Learning_Rate'] = lr_params\n",
    "results_df['L2_Lamda'] = l2_reg_params\n",
    "results_df['Batch_Normalization'] = bn_params\n",
    "results_df['RMSE_Train'] = rmse_train_list\n",
    "results_df['RMSE_Val'] = rmse_val_list\n",
    "results_df['RMSE_Test'] = rmse_test_list\n",
    "results_df.to_csv('../Results/NCF_results.csv')"
   ]
  },
  {
   "cell_type": "code",
   "execution_count": null,
   "metadata": {
    "executionInfo": {
     "elapsed": 28,
     "status": "ok",
     "timestamp": 1637841637716,
     "user": {
      "displayName": "ASHISH ROUT",
      "photoUrl": "https://lh3.googleusercontent.com/a/default-user=s64",
      "userId": "10779218940310329058"
     },
     "user_tz": -330
    },
    "id": "WFQtuKt-7aqz"
   },
   "outputs": [],
   "source": []
  }
 ],
 "metadata": {
  "accelerator": "GPU",
  "colab": {
   "authorship_tag": "ABX9TyOp0sWAls56+JfZKAzf9Z2r",
   "collapsed_sections": [],
   "name": "Neural.ipynb",
   "provenance": []
  },
  "kernelspec": {
   "display_name": "Python 3 (ipykernel)",
   "language": "python",
   "name": "python3"
  },
  "language_info": {
   "codemirror_mode": {
    "name": "ipython",
    "version": 3
   },
   "file_extension": ".py",
   "mimetype": "text/x-python",
   "name": "python",
   "nbconvert_exporter": "python",
   "pygments_lexer": "ipython3",
   "version": "3.9.7"
  }
 },
 "nbformat": 4,
 "nbformat_minor": 1
}
